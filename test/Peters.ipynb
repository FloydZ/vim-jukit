{
  "cells": [
    {
      "cell_type": "code",
      "metadata": {
        "jukit_cell_id": "wcU4ni2Izp"
      },
      "source": [
        "from math import inf, comb as binom\n",
        "\n",
        "import time\n",
        "import math\n",
        "def log2(x):\n",
        "    if x == 0:\n",
        "        return 0\n",
        "    return math.log2(x)"
      ],
      "outputs": [],
      "execution_count": null
    },
    {
      "cell_type": "code",
      "metadata": {
        "jukit_cell_id": "LCHV32NZOZ"
      },
      "source": [
        "def _mem_matrix(n: int, k: int, r: int):\n",
        "    \"\"\"Stolen from CryptographicEstimator\n",
        "    \"\"\"\n",
        "    return n - k + 2 ** r"
      ],
      "outputs": [],
      "execution_count": null
    },
    {
      "cell_type": "code",
      "metadata": {
        "jukit_cell_id": "NfkfOJ8dRn"
      },
      "source": [
        "def stern(n:int, k:int, w:int, q:int, memory_bound=inf):\n",
        "    \"\"\"Stolen from CryptographicEstimator\n",
        "    \"\"\"\n",
        "    time_min, memory_min, params = inf, inf, []\n",
        "    solutions = 0\n",
        "    k1 = k // 2\n",
        "    for p in range(0, w//2):\n",
        "        l_val = int(log2(binom(k1, p)) - log2(q-1)*p)\n",
        "        l_search_radius = 10\n",
        "        for l in range(max(0, l_val - l_search_radius), min(l_val+l_search_radius, n-k)):\n",
        "            \n",
        "            L1 = binom(k1, p) * (q-1)**p\n",
        "            L2 = binom(k-k1, p) * (q-1)**p\n",
        "            if (L1 > 0) and (log2(L1) > time_min):\n",
        "                continue\n",
        "\n",
        "            memory = log2((L1 + L2)*l + _mem_matrix(n, k, 0)) + log2(n)\n",
        "            if memory > memory_bound:\n",
        "                continue\n",
        "\n",
        "            Tp = max(0,log2(binom(n,w)) - log2(binom(n-k-l, w-2*p)) - log2(binom(k1,p)**2) - solutions)\n",
        "\n",
        "            Tg = (n-k)**2 * (n+k) // 2\n",
        "\n",
        "            build = max(((k1 - p + 1) + (L2+L1)) * l, 1)\n",
        "            cost_early_exit = max(1,int(max(q/(q-1) * (w - 2*p + 1)*2*p*(1 + (q - 2)/(q - 1)), 1)))\n",
        "            L = L1*L2//q**l\n",
        "            ops = build + L*cost_early_exit\n",
        "            time = log2(Tg + ops) + Tp\n",
        "            \n",
        "            if time < time_min:\n",
        "                time_min = round(time, 3)\n",
        "                memory_min = round(memory, 3)\n",
        "                params = [p, l, Tp]\n",
        "\n",
        "    return time_min, memory_min, params"
      ],
      "outputs": [],
      "execution_count": null
    },
    {
      "cell_type": "code",
      "metadata": {
        "jukit_cell_id": "3et00zlH9Y"
      },
      "source": [
        "print(stern(100, 50, 10, 3))\n",
        "print(stern(961, 771, 48, 31))"
      ],
      "outputs": [
        {
          "name": "stdout",
          "output_type": "stream",
          "text": [
            "(22.887, 20.684, [2, 7, 4.979520455578971])\n",
            "(126.75, 39.707, [2, 7, 96.81866057433595])\n"
          ]
        }
      ],
      "execution_count": 1
    },
    {
      "cell_type": "code",
      "metadata": {
        "jukit_cell_id": "Lqc6BGtbfD"
      },
      "source": [
        "def reps(k: int, l: int, p: int, q: int, delta: int):\n",
        "    \"\"\"taken from LEMMA 7.2.1: https://www.cits.ruhr-uni-bochum.de/imperia/md/content/diss.pdf\"\"\"\n",
        "    p2 = p//2\n",
        "    return log2(sum(binom(p - 2*i, p2 - i) * \n",
        "               binom(p, 2*i) * \n",
        "               (q-2)**(2*i) * \n",
        "               binom(k+l-p, delta - i) * \n",
        "               (q-1)**(delta-i) \n",
        "               for i in range(min(p2, delta))))\n",
        "    \n",
        "def mmt(n:int, k:int, w:int, q:int, memory_bound=inf, solutions=0):\n",
        "    \"\"\"not Stolen from CryptographicEstimator\n",
        "    :param L1 = base list\n",
        "    :param L2 = intermediate list\n",
        "    :param L  = final output list\n",
        "    \"\"\"\n",
        "    time_min, memory_min, params = inf, inf, []    \n",
        "    for p in range(0, w//2):\n",
        "        for l in range(0, n-k-(w-2*p)):\n",
        "            k1 = (k + l) // 2\n",
        "            for p1 in range((p+1)//2, w):\n",
        "                L1 = binom(k1, p1) * (q-1)**p1\n",
        "                if (L1 > 0) and (log2(L1) > time_min):\n",
        "                    continue\n",
        "\n",
        "                l1 = ceil(reps(k, l, p, q, p1 - p//2))\n",
        "                if (l1 > l):\n",
        "                    continue\n",
        "                    \n",
        "                L2 = max(1, L1**2 / q**l1)\n",
        "                memory = log2((2*L1 + L2)*l + _mem_matrix(n, k, 0)) + log2(n)\n",
        "                if memory > memory_bound:\n",
        "                    continue\n",
        "\n",
        "                Tp = max(0,log2(binom(n,w)) - log2(binom(n-k-l, w-2*p)) - log2(binom(k1,p)**2) - solutions)\n",
        "                Tg = (n-k)**2 * (n+k) // 2\n",
        "                L = L2**2/q**(l - l1)\n",
        "    \n",
        "                # need to construct l field elements of each vector of the base lists\n",
        "                # you only need two baselists lists, the other two are copies\n",
        "                build_base = max(((k1 - p1 + 1) + (2*L1)) * l, 1)\n",
        "                # cost are per element\n",
        "                build_intermediate = l*2 # addition of the intermediate targets + normal addition\n",
        "                build_final = max(1, int(max(q/(q-1) * (w - 2*p1 + 1)*2*p1*(1 + (q - 2)/(q - 1)), 1)))\n",
        "                ops = max(1, build_base + L*build_final + 2*L2*build_intermediate)\n",
        "                time = log2(Tg + ops) + Tp\n",
        "\n",
        "                if time < time_min:\n",
        "                    time_min = round(time, 3)\n",
        "                    memory_min = round(memory, 3)\n",
        "                    params = [p, p1, l, l1, log2(L1), log2(L2), log2(L), Tp]\n",
        "\n",
        "    return time_min, memory_min, params"
      ],
      "outputs": [],
      "execution_count": null
    },
    {
      "cell_type": "code",
      "metadata": {
        "jukit_cell_id": "Yt7GDuY3kL"
      },
      "source": [
        "print(mmt(100, 50, 10, 3))\n",
        "print(mmt(961, 771, 48, 31))"
      ],
      "outputs": [
        {
          "name": "stdout",
          "output_type": "stream",
          "text": [
            "(21.594, 22.478, [3, 2, 14, 9, 10.954196310386875, 7.643730114283345, 7.362647724960909, 3.578345460709805])\n",
            "(108.8, 87.186, [11, 6, 24, 24, 71.69269830343866, 24.484685157592317, 48.969370315184634, 31.52201930313899])\n"
          ]
        }
      ],
      "execution_count": 2
    },
    {
      "cell_type": "code",
      "metadata": {
        "jukit_cell_id": "rACJZG7vd9"
      },
      "source": [
        "# Base Definitions\n",
        "R1 = RealField(3000)\n",
        "#R1 = RIF\n",
        "RPrint = RealField(50)\n",
        "# NOTE: l == 0 is only needed to sanity check to peters implementation\n",
        "n,k,w,c,p,l=2918, 2918//2, 54, 10, 3, 20"
      ],
      "outputs": [],
      "execution_count": null
    },
    {
      "cell_type": "code",
      "metadata": {
        "jukit_cell_id": "Ie1eQVgGKT"
      },
      "source": [
        "def fq_iters(n: int, k: int, w: int, p: int, l:int):\n",
        "    \"\"\" compute tha normally needed number of permutations. On logarithmic scale\"\"\"\n",
        "    return log2(binom(n, w)/ (binom((k+l), 2*p) * binom(n-k-l, w-2*p)))\n",
        "\n",
        "def print_matrix(m):\n",
        "    \"\"\"helper functions: prints the matrix in a smaller field, to save space\"\"\"\n",
        "    for i in range(m.nrows()):\n",
        "        for j in range(m.ncols()):\n",
        "            print(RPrint(m[i, j]), end='')\n",
        "            print(\" \", end='')\n",
        "\n",
        "        print()"
      ],
      "outputs": [],
      "execution_count": null
    },
    {
      "cell_type": "code",
      "metadata": {
        "jukit_cell_id": "74mhupJgB8"
      },
      "source": [
        "def compute_beta(n: int, k: int, w: int, p: int, l: int, m=1):\n",
        "    \"\"\"\n",
        "    computes the beta factor as described in https://eprint.iacr.org/2009/589.pdf\n",
        "    This factor is the probability to go from state (2p)S to Success. This \n",
        "    additional transition is needed in the stern case, to describe the needed\n",
        "    weight distribution of [p, p] and the needed \\ell zeros in the error vector.\n",
        "    \"\"\"\n",
        "    beta = R1(binom(k//2, p) * binom(k - k//2, p)) / R1(binom(k, 2*p))\n",
        "    sign = R1(-1)\n",
        "    tmp = R1(0)\n",
        "    for i in range(1, m+1):\n",
        "        sign *= R1(-1)\n",
        "        tmp += R1(binom(m, i) * binom(n-k-w+2*p, i*l)) / R1(binom(n-k, i*l))\n",
        "    beta *= tmp\n",
        "    return beta\n",
        "\n",
        "def transition_matrix(n: int, k: int, w: int, c: int, p: int, l: int):\n",
        "    \"\"\"\n",
        "    Transitions Matrix by Andre/Floyd. (https://eprint.iacr.org/2022/1329)\n",
        "    In comparision to Peters Transitions Matrix, this one aknowledges a \n",
        "    weight distribution on [n-k-l, k+l]. To be compatible to peters \n",
        "    matrix call this function with \\ell=0\n",
        "    \"\"\"\n",
        "    def transition(u: int, d: int, c: int, n: int, k: int, w: int, l: int):\n",
        "        # from u to u+d by exchanging c columns\n",
        "        return R1(sum(binom(w-u, i) * \n",
        "                      binom(n-k-l-w+u, c-i) *\n",
        "                      binom(u, i-d) *\n",
        "                      binom(k+l-u, c+d-i)\n",
        "                      for i in range(max(d, 0), min(w-u+1, c+1, c+d+1)))) / R1(binom(n-k-l, c) * binom(k+l, c))\n",
        "    A = matrix(R1, w+1, w+1)\n",
        "    for i in range(w+1):\n",
        "        for j in range(w+1):\n",
        "            A[i,j] = transition(i, j-i, c, n, k, w, l)\n",
        "\n",
        "    return A\n",
        "    \n",
        "def transition_matrix_peters(n: int, k: int, w: int, c: int, p: int, l: int):\n",
        "    \"\"\"\n",
        "    Translations of Peters https://eprint.iacr.org/2009/589.pdf C code into python\n",
        "    \"\"\"\n",
        "    def si_inc(u: int, d: int, i: int):\n",
        "        return R1(binom(w-u, i) * \n",
        "                  binom(n-k-w+u, c-i) * \n",
        "                  binom(u, d+i) * \n",
        "                  binom(k-u, c-d-i)) / R1(binom(n-k, c) * binom(k, c))\n",
        "    def si_dec(u: int, d: int, i: int):\n",
        "        return R1(binom(w-u, d+i) * \n",
        "                  binom(n-k-w+u, c-d-i) * \n",
        "                  binom(u, i) * \n",
        "                  binom(k-u, c-i)) / R1(binom(n-k, c) * binom(k, c))\n",
        "\n",
        "    P = matrix(R1, w+1, w+1)\n",
        "    \n",
        "    for u in range(w+1):\n",
        "        for d in range(c, -1, -1):\n",
        "            if (u-d >= 0) and (u-d < w+1):\n",
        "                tmp = R1(0)\n",
        "                for i in range(c-d+1):\n",
        "                    if (w-u >= i) and (u >= d+i):\n",
        "                        tmp += si_inc(u, d, i)\n",
        "               \n",
        "                P[u, u-d] = tmp\n",
        "\n",
        "            if (u+d > 0) and (u+d < w+1):\n",
        "                tmp = R1(0)\n",
        "                for i in range(c-d+1):\n",
        "                    if (w-u >= d+i) and (u >= i):\n",
        "                        tmp += si_dec(u, d, i)\n",
        "                \n",
        "                P[u, u+d] = tmp\n",
        "    return P"
      ],
      "outputs": [
        {
          "name": "stderr",
          "output_type": "stream",
          "text": [
            "<>:2: DeprecationWarning: invalid escape sequence '\\e'\n",
            "<>:18: DeprecationWarning: invalid escape sequence '\\e'\n",
            "<>:2: DeprecationWarning: invalid escape sequence '\\e'\n",
            "<>:18: DeprecationWarning: invalid escape sequence '\\e'\n",
            "/tmp/ipykernel_5013/509140239.py:2: DeprecationWarning: invalid escape sequence '\\e'\n",
            "  \"\"\"\n",
            "/tmp/ipykernel_5013/509140239.py:18: DeprecationWarning: invalid escape sequence '\\e'\n",
            "  \"\"\"\n"
          ]
        }
      ],
      "execution_count": 3
    },
    {
      "cell_type": "code",
      "metadata": {
        "jukit_cell_id": "2jyj6ZofDs"
      },
      "source": [
        "def peters_number_perms(n: int, k: int, w: int, c: int, p:int, l: int, m=1):\n",
        "    \"\"\"\n",
        "    Implementation of Peters C code. Its binary compatible to the C code\n",
        "    :param n: code length\n",
        "    :param k: code dimension\n",
        "    :param w: weight\n",
        "    :param c: number of coordinates to exchange during each gaussian elimination\n",
        "    :param p: weight of the good state\n",
        "    :param l: window\n",
        "\n",
        "    Additional parameters:\n",
        "    :param x: k//2\n",
        "    :param m: #Indyk Motwani iterations\n",
        "    :param r: M4ri parameter\n",
        "    \"\"\"\n",
        "    # one can use both\n",
        "    P = transition_matrix(n,k,w,c,p,0)\n",
        "    #P = transition_matrix_peters(n,k,w,c,p,l)\n",
        "\n",
        "    beta = compute_beta(n,k,w,p,l,m)\n",
        "\n",
        "    # success probabiity matrix R\n",
        "    tmp = identity_matrix(R1, w+1, w+1)\n",
        "    tmp[2*p, 2*p] = R1(1) - beta\n",
        "\n",
        "    R = P * tmp\n",
        "    R = (identity_matrix(R1, w+1, w+1) - R).inverse()\n",
        "    #print_matrix(R)\n",
        "\n",
        "    def pi(u: int):\n",
        "        pi0 = R1(0)\n",
        "        if u == 2*p:\n",
        "            pi0 = R1(1) - beta\n",
        "        else:\n",
        "            pi0 = R1(1)\n",
        "\n",
        "        return pi0 * R1(binom(w, u) * binom(n-w, k-u)) / R1(binom(n, k))\n",
        "\n",
        "    # finally iteration count\n",
        "    num = R1(0)\n",
        "    for u in range(w+1):\n",
        "        tmp0 = R1(0)\n",
        "        for v in range(w+1):\n",
        "            tmp0 += R[u, v]\n",
        "\n",
        "        num += tmp0 * pi(u)\n",
        "\n",
        "    if num < 1:\n",
        "        return inf\n",
        "        \n",
        "    num = log(num, 2)\n",
        "    return round(num, 10)"
      ],
      "outputs": [],
      "execution_count": null
    },
    {
      "cell_type": "code",
      "metadata": {
        "jukit_cell_id": "zST6cEa5O0"
      },
      "source": [
        "print(peters_number_perms(2918, 2918//2, 54, 10, 3, 20))\n",
        "# 2918, 2918//2, 54, 10, 3, 20 = 33.0270244994"
      ],
      "outputs": [
        {
          "name": "stdout",
          "output_type": "stream",
          "text": [
            "33.0270244994\n"
          ]
        }
      ],
      "execution_count": 4
    },
    {
      "cell_type": "code",
      "metadata": {
        "jukit_cell_id": "saPn895EYL"
      },
      "source": [
        "def marcovchain_number_perms(n: int, k: int, w: int, c: int, p: int, l: int):\n",
        "    \"\"\"\n",
        "    code by Andre/Floyd\n",
        "    NOT compatible with peters estimation\n",
        "\n",
        "    :param n: code length\n",
        "    :param k: code dimension\n",
        "    :param w: weight\n",
        "    :param c: number of coordinates to exchange during each gaussian elimination\n",
        "    :param p: weight of the good state\n",
        "    :param l: window\n",
        "    Example:\n",
        "        p = 3\n",
        "        n = 2918\n",
        "        k = n//2\n",
        "        w = 54\n",
        "        l = 0\n",
        "        c = 95\n",
        "        marcovchain_number_perms(n,k,w,c,p,l)\n",
        "    :return: number of expected iteration in logarithmic notation\n",
        "    \"\"\"\n",
        "    A = transition_matrix(n,k,w,c,p,l)\n",
        "\n",
        "    # transition matrix excluding success-state\n",
        "    Q = A[[i for i in range(w+1) if i!=p],[i for i in range(w+1) if i!=p]]\n",
        "    \n",
        "    # fundamental matrix of markov process\n",
        "    R = (identity_matrix(R1, w, w) - Q).inverse()\n",
        "    \n",
        "    # initial state of markov chain\n",
        "    state = [R1((binom(n-k,w-i)*binom(k,i))/binom(n,w)) for i in range(w+1) if i!=p]\n",
        "\n",
        "    # number of permutations\n",
        "    summ = sum(state[i]*sum(R[i,j] for j in range(w)) for i in range(w) if i!=p)\n",
        "    return log(summ, 2) - log2(n-k)"
      ],
      "outputs": [],
      "execution_count": null
    },
    {
      "cell_type": "code",
      "metadata": {
        "jukit_cell_id": "K2429fGBQF"
      },
      "source": [
        "print(marcovchain_number_perms(n,k,w,c,p,l))\n",
        "#print(fq_iters(n,k,w,p,l))"
      ],
      "outputs": [
        {
          "name": "stdout",
          "output_type": "stream",
          "text": [
            "32.250281089924215\n"
          ]
        }
      ],
      "execution_count": 5
    },
    {
      "cell_type": "code",
      "metadata": {
        "jukit_cell_id": "LNMWBaZijO"
      },
      "source": [
        "# McElice parameters\n",
        "print(marcovchain_number_perms(3348,2720,64,10,4,0))\n",
        "print(peters_number_perms(3348,2720,64,10,4,20))\n",
        "# should be: 112.998742"
      ],
      "outputs": [
        {
          "name": "stdout",
          "output_type": "stream",
          "text": [
            "121.49463949079642\n",
            "112.998742184\n"
          ]
        }
      ],
      "execution_count": 6
    },
    {
      "cell_type": "code",
      "metadata": {
        "jukit_cell_id": "SkeGvLlVS1"
      },
      "source": [
        "def peters_stern(n: int, k: int, w: int, q: int, p_value=-1, l_value=-1, c_value=0, m_value=0, r_value=0, memory_bound=inf, to_bit_sec=True):\n",
        "    \"\"\"\n",
        "    :param n: code length\n",
        "    :param k: code dimension\n",
        "    :param w: weight\n",
        "    :param c: number of coordinates to exchange during each gaussian elimination\n",
        "    :param p: weight enumerated in the base list\n",
        "    :param l: window\n",
        "    :param m: number of indyk motwani iterations, should be atleas 1\n",
        "    :param r: number of columns to solve in parallel in the gaussian elimination: 1 = gaus\n",
        "                is also known as the M4RI parameter\n",
        "    :param memory_bound: max memory\n",
        "    :param to_bit_sec: if true the output will be in 2**X bit operations, otherwise in 2**X Fq Operations\n",
        "    \"\"\"\n",
        "    time_min, memory_min, params = inf, inf, []\n",
        "    solutions = 0\n",
        "    k1 = k // 2\n",
        "    cost = log2(q) if to_bit_sec else 1\n",
        "    hardcoded_upper_value_p = 10 # change this if needed. But I think everything above this is not usable\n",
        "    hardcoded_upper_value_c = 30 # increase if really needed\n",
        "    l_search_radius = 30\n",
        "\n",
        "    # steps of two to increase optimization time\n",
        "    for c in range(0, min(n, hardcoded_upper_value_c), 2):\n",
        "        if c_value and c != c_value:\n",
        "            continue\n",
        "\n",
        "        # hardcoded to 1 as, this is relly not worth to optimize\n",
        "        for r in range(1, 2):\n",
        "            if r_value and r != r_value:\n",
        "                continue\n",
        "\n",
        "            if c == 0:\n",
        "                Tg = (n-k)**2 * (n+k) // 2\n",
        "            else:\n",
        "                rq = max(1, 2**(r*log2(q)))\n",
        "                Tg = (n-1) * ((k-1) * (1-1/rq) + (rq - r)) * ceil(c / r)\n",
        "\n",
        "            for m in range(1, 3):\n",
        "                if m_value and m != m_value:\n",
        "                    continue\n",
        "\n",
        "                for p in range(0, min(hardcoded_upper_value_p, w//2)):\n",
        "                    if p_value != -1 and  p != p_value:\n",
        "                        continue\n",
        "                    \n",
        "                    L1 = binom(k1, p) * (q-1)**p\n",
        "                    L2 = binom(k-k1, p) * (q-1)**p\n",
        "                    if (L1 > 0) and (log2(L1) > time_min):\n",
        "                        continue\n",
        "                    \n",
        "                    l_exp_val = int(log2(binom(k1, p)) - log2(q-1)*p)\n",
        "                    l_lower = l_value+0 if l_value!=-1 else max(l_exp_val - l_search_radius, 0)\n",
        "                    l_highe = l_value+1 if l_value!=-1 else min(l_exp_val + l_search_radius, n-k)\n",
        "                    for l in range(l_lower, l_highe):\n",
        "                        if l_value != -1 and l != l_value:\n",
        "                            continue\n",
        "                        memory = log2((L1 + L2)*l + _mem_matrix(n, k, 0)) + log2(n)\n",
        "                        if memory > memory_bound:\n",
        "                            continue\n",
        "                        if c == 0 or c == n:\n",
        "                            Tp = max(0,log2(binom(n,w)) - log2(binom(n-k-l, w-2*p)) - log2(binom(k1,p)**2) - solutions)\n",
        "                        else:\n",
        "                            Tp = peters_number_perms(n,k,w,c,p,l,m)\n",
        "\n",
        "                        build = max(((k1 - p + 1) + (L2+L1)) * l * m, 1)\n",
        "\n",
        "                        cost_early_exit = max(1,int(max(q/(q-1) * (w - 2*p + 1)*(2*p*(1 + (q - 2)/(q - 1))), 1)))\n",
        "                        L = L1*L2//q**l\n",
        "                        ops = (build + L*cost_early_exit) * cost\n",
        "                        time = log2(Tg + ops) + Tp\n",
        "                        \n",
        "                        if time < time_min:\n",
        "                            time_min = round(time, 10)\n",
        "                            memory_min = round(memory, 10)\n",
        "                            params = [p, l, c, m, r, Tp, log2(L1), log2(L)]\n",
        "\n",
        "    return time_min, memory_min, params"
      ],
      "outputs": [],
      "execution_count": null
    },
    {
      "cell_type": "code",
      "metadata": {
        "jukit_cell_id": "8DxyPoJ1U3"
      },
      "source": [
        "%time print(peters_stern(256,128,80,256,c_value=20))"
      ],
      "outputs": [
        {
          "name": "stdout",
          "output_type": "stream",
          "text": [
            "(118.2620580404, 24.581215296, [1, 3, 20, 2, 1, 96.5012967114, 13.994353436858859, 3.9068905956085187])\n",
            "CPU times: user 2min 1s, sys: 65.6 ms, total: 2min 1s\n",
            "Wall time: 2min 1s\n"
          ]
        }
      ],
      "execution_count": 7
    },
    {
      "cell_type": "code",
      "metadata": {
        "jukit_cell_id": "jeL6i46Pzk"
      },
      "source": [
        "%time print(peters_stern(256,128,80,256,p_value=0, m_value=1, r_value=1))"
      ],
      "outputs": [
        {
          "name": "stdout",
          "output_type": "stream",
          "text": [
            "(124.5700714622, 15.0112272554, [0, 0, 2, 1, 1, 107.000045373, 0.0, 0.0])\n",
            "CPU times: user 2min 34s, sys: 96.5 ms, total: 2min 34s\n",
            "Wall time: 2min 35s\n"
          ]
        }
      ],
      "execution_count": 8
    },
    {
      "cell_type": "code",
      "metadata": {
        "jukit_cell_id": "LYcPKbYVv6"
      },
      "source": [
        "# taken from the paper: https://eprint.iacr.org/2009/589.pdf\n",
        "print(peters_stern(961,771,48,31,p_value=4,l_value=20,c_value=10,m_value=1,r_value=1))\n",
        "# q=31 n=961 k=771 w=48 p=4 l=20 m=1 c=10 r=1:  bit ops  138.419795, bit ops per it 57.013019, log2 #it 81.406776"
      ],
      "outputs": [
        {
          "name": "stdout",
          "output_type": "stream",
          "text": [
            "(138.4197948523, 64.6127608163, [4, 20, 10, 1, 1, 81.4067756201, 49.374906427977045, 0])\n"
          ]
        }
      ],
      "execution_count": 9
    },
    {
      "cell_type": "code",
      "metadata": {
        "jukit_cell_id": "4McrPkKYuB"
      },
      "source": [
        "%time print(peters_stern(961,771,48,31,c_value=10,m_value=1))"
      ],
      "outputs": [],
      "execution_count": null
    },
    {
      "cell_type": "code",
      "metadata": {
        "jukit_cell_id": "UFi6cYoxV8"
      },
      "source": [
        "%time print(peters_stern(961,771,48,31))"
      ],
      "outputs": [
        {
          "name": "stdout",
          "output_type": "stream",
          "text": [
            "(128.8684175605, 39.7069583003, [2, 7, 24, 2, 1, 95.713611933, 25.987458327520457, 17.303031527860824])\n",
            "CPU times: user 7min 54s, sys: 140 ms, total: 7min 54s\n",
            "Wall time: 7min 54s\n"
          ]
        }
      ],
      "execution_count": 10
    },
    {
      "cell_type": "code",
      "metadata": {
        "jukit_cell_id": "6Du57jk9gc"
      },
      "source": [
        "print(peters_stern(3348,2720,64,2,p_value=4//2,l_value=20,c_value=10))\n",
        "# q=2 n=3348 k=2720 w=64 p=4 l=20 m=1 c=10 r=1:  bit ops  176.924095, bit ops per it 63.925352, log2 #it 112.998742"
      ],
      "outputs": [
        {
          "name": "stdout",
          "output_type": "stream",
          "text": [
            "(162.4242696449, 36.8487571333, [2, 20, 10, 2, 1, 133.4787805788, 19.817720676905093, 19.63544003639245])\n"
          ]
        }
      ],
      "execution_count": 11
    },
    {
      "cell_type": "code",
      "metadata": {
        "jukit_cell_id": "CkSZwl534J"
      },
      "source": [
        "print(peters_stern(3348,2720,64,2,p_value=4,c_value=10))\n",
        "print(peters_stern(3348,2720,64,2,c_value=10))\n",
        "print(peters_stern(3348,2720,64,2))"
      ],
      "outputs": [],
      "execution_count": null
    },
    {
      "cell_type": "markdown",
      "metadata": {
        "jukit_cell_id": "4ifh6UBMjr"
      },
      "source": [
        "# Fq Prange"
      ]
    },
    {
      "cell_type": "code",
      "metadata": {
        "jukit_cell_id": "1OPyizlTiQ"
      },
      "source": [
        "import time\n",
        "\n",
        "q = 2\n",
        "m = 3\n",
        "n = 10\n",
        "k = 5\n",
        "w = 3\n",
        "BF = GF(q)\n",
        "# F, f = BF.extension(m, repr='int', map=True)\n",
        "# F, f = BF.extension(m, 'a', map=True)\n",
        "F.<a> = GF(q^m)"
      ],
      "outputs": [],
      "execution_count": null
    },
    {
      "cell_type": "code",
      "metadata": {
        "jukit_cell_id": "Qvd7pZ7P0Z"
      },
      "source": [
        "bases = [F(a**i) for i in range(m)]\n",
        "\n",
        "def create_random_weight_vector(F, n, w):\n",
        "    \"\"\"samples a random weight w vector\"\"\"\n",
        "    v = [0] * n\n",
        "    for i in range(w):\n",
        "        while v[i] == 0:\n",
        "            v[i] = F.random_element()\n",
        "    P = Permutations(n)\n",
        "    p = P.random_element()\n",
        "\n",
        "    for i in range(n):\n",
        "        tmp = v[i]\n",
        "        v[i] = v[p[i] - 1] # Permutation is not 0 based\n",
        "        v[p[i] - 1] = tmp\n",
        "\n",
        "    return vector(F, v)\n",
        "\n",
        "def create_instance(F, n, k, w):\n",
        "    \"\"\"simply generates a random ISD instance\"\"\"\n",
        "    H = random_matrix(F,n-k,n)\n",
        "    e = create_random_weight_vector(F, n, w)\n",
        "    s = H*e\n",
        "    return H, Matrix(F, n-k, 1, s), e\n",
        "\n",
        "def f_el(e: F):\n",
        "    \"\"\"map from extension field to base field (without repetition of the bases)\"\"\"\n",
        "    ret = [0] * m\n",
        "    for k, v in e.polynomial().dict().items():\n",
        "        ret[k] = BF(v)\n",
        "    return ret\n",
        "    \n",
        "def f(e: F):\n",
        "    \"\"\"map from extension field to base field\"\"\"\n",
        "    ret = [[]] * m # these are the columns\n",
        "    for i in range(m):\n",
        "        el = f_el(bases[i] * e)\n",
        "        ret[i] = el\n",
        "    return Matrix(F, m, m, ret).transpose()\n",
        "\n",
        "def matrix_f(H):\n",
        "    \"\"\" given a parity check matrix H, returns the m*(n-k) \\times m*n\n",
        "    extended matrix in the base field\n",
        "    \"\"\"\n",
        "    nrows = H.nrows()\n",
        "    ncols = H.ncols()\n",
        "    ret = zero_matrix(BF, m*nrows, m*ncols)\n",
        "    for i in range(nrows):\n",
        "        for j in range(ncols):\n",
        "            val = f(H[i, j])\n",
        "            for k1 in range(m):\n",
        "                for k2 in range(m):\n",
        "                    ret[i*m + k1, j*m + k2] = val[k1, k2]\n",
        "    return ret\n",
        "\n",
        "def bwt(A, col=0, m=1):\n",
        "    \"\"\"computes the hamming weight of a column of the input matrix A\n",
        "    block wise.\n",
        "    \"\"\"\n",
        "    ret = 0\n",
        "    assert m > 0 and col >= 0\n",
        "    for row in range(0, A.nrows(), m):\n",
        "        for j in range(m):\n",
        "            if A[row + j, col] > 0:\n",
        "                ret += 1\n",
        "                break  \n",
        "    return ret\n",
        "\n",
        "def wt(A, col=0):\n",
        "    \"\"\"computes the hamming weight of a column of the input matrix A\n",
        "    \"\"\"\n",
        "    ret = 0\n",
        "    assert m > 0 and col >= 0\n",
        "    for row in range(0, A.nrows()):\n",
        "        if A[row, col] > 0:\n",
        "            ret += 1\n",
        "    return ret"
      ],
      "outputs": [],
      "execution_count": null
    },
    {
      "cell_type": "code",
      "metadata": {
        "jukit_cell_id": "WPw8idM7XD"
      },
      "source": [
        "def attack(HH, s, n: int, k: int, w: int, q: int, m: int, epsilon=1):\n",
        "    \"\"\"\n",
        "    simple prange:\n",
        "    NOTE: n,k,w must not be scaled with m. This function is doing it\n",
        "    NOTE: the parity check matrix must be over the extension field,\n",
        "            the syndrome also\n",
        "    \"\"\"\n",
        "    print(\"n:\", n, \"k:\", k, \"w:\", w, \"q:\", q, \"m:\", m)\n",
        "    print(\"weight limit:\", int(w*m/2) - epsilon, int(w*m/2) + epsilon)\n",
        "    P = Permutations(m*n)\n",
        "    p = [i for i in range(m*n)]\n",
        "    H = HH.augment(s)\n",
        "\n",
        "    # compute the matrix over the base field\n",
        "    bH = matrix_f(H)\n",
        "\n",
        "    ctr = 0\n",
        "    while true:\n",
        "        ctr += 1\n",
        "        np = P.random_element()\n",
        "        for i in range(m*n):\n",
        "            p[i], p[np[i]-1] = p[np[i]-1], p[i]\n",
        "            bH.swap_columns(i, np[i]-1)\n",
        "\n",
        "        bH.echelonize()\n",
        "        if bH.rank() < m*(n-k):\n",
        "            continue\n",
        "        \n",
        "        # this comptes the block wise hamming weight\n",
        "        # for the syndrome column multiplied with the base element `1`\n",
        "        cw = wt(bH, m*n)\n",
        "\n",
        "        # check if the weight is blockwise below its limit\n",
        "        if int(w*m/2) - epsilon <= cw <= int(w*m/2) + epsilon:\n",
        "            # print some debug information\n",
        "            #print(bH.column(m*n))\n",
        "            #print(cw)\n",
        "            \n",
        "            # allocate 3 different errors\n",
        "            e1 = [0] * (m*n) # needed to extract the syndrome\n",
        "            e2 = [0] * (m*n) # needed to apply the inverse permutation\n",
        "            e = [F(0)] * (n) # error in the extension field\n",
        "\n",
        "            # first extract the syndrome and write it into the error\n",
        "            for i in range((n-k) * m):\n",
        "                e1[i] = bH[i, m*n]\n",
        "            #print(e1, \"e1\")\n",
        "\n",
        "            \n",
        "            #  apply the inverse permutation\n",
        "            for i in range(m*n):\n",
        "                e2[i] = e1[p[i]]\n",
        "            #print(e2, \"e2\")\n",
        "            #print(p, \"p\")\n",
        "\n",
        "                \n",
        "            # apply the back isomorphishm: translate the error from F_q^{m*n}\n",
        "            # to F_{q^m}^n. Note that we therefore need to mulitply with the \n",
        "            # base elemetns of F_{q^m}^n\n",
        "            for i in range(n):\n",
        "                for j in range(m):\n",
        "                    e[i] += F(e2[i*m + j])* F(bases[j])\n",
        "            #print(e, \"e\")\n",
        "        \n",
        "            e = Matrix(F, n, 1, e)\n",
        "            if HH*e == s:\n",
        "                return e, ctr\n",
        "\n",
        "set_random_seed(time.time())\n",
        "Hpriv, s, e = create_instance(F, n, k, w)\n",
        "eprime, ctr = attack(copy(Hpriv), s, n, k, w, q, m)\n",
        "print(eprime)\n",
        "print(e)\n",
        "\n",
        "print(\"iterations needed:\", ctr, \"log2:\", math.log(ctr, 2))\n",
        "print(\"syndrome (should)\")\n",
        "print(s)\n",
        "print(\"syndrome (is)\")\n",
        "print(Hpriv*eprime)"
      ],
      "outputs": [
        {
          "name": "stdout",
          "output_type": "stream",
          "text": [
            "n: 10 k: 5 w: 3 q: 2 m: 3\n",
            "weight limit: 3 5\n",
            "[a^2]\n",
            "[  a]\n",
            "[  0]\n",
            "[  a]\n",
            "[  0]\n",
            "[  0]\n",
            "[  a]\n",
            "[  0]\n",
            "[  1]\n",
            "[  0]\n",
            "(0, 1, a^2 + a + 1, a^2 + a + 1, 0, 0, 0, 0, 0, 0)\n",
            "iterations needed: 104941 log2: 16.67921891727333\n",
            "syndrome (should)\n",
            "[      0]\n",
            "[a^2 + a]\n",
            "[      0]\n",
            "[  a + 1]\n",
            "[      a]\n",
            "syndrome (is)\n",
            "[      0]\n",
            "[a^2 + a]\n",
            "[      0]\n",
            "[  a + 1]\n",
            "[      a]\n"
          ]
        }
      ],
      "execution_count": 12
    },
    {
      "cell_type": "markdown",
      "metadata": {
        "jukit_cell_id": "rVdcjbavzF"
      },
      "source": [
        "# FqStern"
      ]
    },
    {
      "cell_type": "code",
      "metadata": {
        "jukit_cell_id": "vLmBYuiEMi"
      },
      "source": [
        "class gray:\n",
        "    \"\"\" enumerate the changelist of the gray coce \"\"\"\n",
        "    def __init__(self, n: int, p: int):\n",
        "        self.p = p\n",
        "        self.n = n\n",
        "        self.cL = [0, 1]\n",
        "\n",
        "        self.last_pos = 0\n",
        "        self.jump = False\n",
        "        self.ctr = 0\n",
        "        \n",
        "    def __iter__(self):\n",
        "        return self\n",
        "\n",
        "    def __next__(self):\n",
        "        self.ctr += 1\n",
        "        if self.p == 1:\n",
        "            self.next1()\n",
        "        elif self.p == 2:\n",
        "            self.next2()\n",
        "        if self.ctr == math.comb(self.n, self.p):\n",
        "            raise StopIteration()\n",
        "        return self.cL\n",
        "\n",
        "    def next1(self):\n",
        "        self.cL[0] += 1\n",
        "        self.cL[1] += 1\n",
        "        return\n",
        "\n",
        "    def next2(self):\n",
        "        if self.jump:\n",
        "            self.cL[0] = self.n - 1\n",
        "            self.cL[1] = self.last_pos + 1\n",
        "            self.jump = False\n",
        "            return\n",
        "\n",
        "        if self.cL[1] == self.n-1:\n",
        "            self.cL[0] = self.last_pos\n",
        "            self.cL[1] = self.last_pos + 1\n",
        "            self.last_pos += 1\n",
        "            self.jump = True\n",
        "            return\n",
        "            \n",
        "        self.cL[0] = self.cL[1]\n",
        "        self.cL[1] += 1\n",
        "        return\n",
        "\n",
        "def example():\n",
        "    g = gray()"
      ],
      "outputs": [],
      "execution_count": null
    },
    {
      "cell_type": "code",
      "metadata": {
        "jukit_cell_id": "ZKR3JzhADo"
      },
      "source": [
        "def extract_l_bits(H, n: int, l: int, offset_row: int=0, offset_col: int=0):\n",
        "    \"\"\" currently only valid for binary base field \"\"\"\n",
        "    ret = []\n",
        "    for i in range(n):\n",
        "        val = 0\n",
        "        for j in range(l):\n",
        "            val = val ^^ int(H[j+offset_row, i+offset_col]) << j\n",
        "\n",
        "        ret.append(val)\n",
        "\n",
        "    # extract the syndrome\n",
        "    ws = 0 \n",
        "    for j in range(l):\n",
        "        ws = ws ^^ int(H[j + offset_row, n+offset_col]) << j\n",
        "        \n",
        "    return ret, ws"
      ],
      "outputs": [],
      "execution_count": null
    },
    {
      "cell_type": "code",
      "metadata": {
        "jukit_cell_id": "MvlcMvVG9d"
      },
      "source": [
        "def fqsten_attack(HH, s, n: int, k: int, w: int, q: int, m: int, l: int=2, p: int=1, epsilon=1):\n",
        "    \"\"\"\n",
        "    simple stern:\n",
        "    NOTE: n,k,w must not be scaled with m. This function is doing it\n",
        "    NOTE: the parity check matrix must be over the extension field,\n",
        "            the syndrome also\n",
        "    \"\"\"\n",
        "    if l > n-k:\n",
        "        print('l to big')\n",
        "        return -1\n",
        "    print(\"n:\", n, \"k:\", k, \"w:\", w, \"q:\", q, \"m:\", m, \"p:\", p, \"l:\", l)\n",
        "    print(\"weight limit:\", int(w*m/2) - epsilon, int(w*m/2) + epsilon)\n",
        "    P = Permutations(m*n)\n",
        "    perm = [i for i in range(m*n)]\n",
        "    H = HH.augment(s)\n",
        "\n",
        "    # compute the matrix over the base field\n",
        "    bH = matrix_f(H)\n",
        "    ctr = 0\n",
        "    while true:\n",
        "        ctr += 1\n",
        "        np = P.random_element()\n",
        "        for i in range(m*n):\n",
        "            perm[i], perm[np[i]-1] = perm[np[i]-1], perm[i]\n",
        "            bH.swap_columns(i, np[i]-1)\n",
        "\n",
        "        bH.echelonize()\n",
        "        if bH.rank() < m*(n-k):\n",
        "            continue\n",
        "\n",
        "        lHT, ws = extract_l_bits(bH, m*(k+l), l, m*(n-k-l), m*(n-k-l)) \n",
        "        print(lHT)\n",
        "\n",
        "        # build up left side:\n",
        "        HM = {}\n",
        "        val = 0\n",
        "        for i in range(p):\n",
        "            val = val ^^ lHT[i]\n",
        "\n",
        "        i = 0\n",
        "        for diff in gray((m*k+l)//2, p):\n",
        "            if val not in HM.keys():\n",
        "                HM[val] = [i]\n",
        "            else:\n",
        "                HM[val].append(i)\n",
        "                \n",
        "            i += 1\n",
        "            for j in range(2):\n",
        "                val = val ^^ lHT[diff[j]]\n",
        "\n",
        "        # iterate right side:\n",
        "        val = ws\n",
        "        for i in range(p):\n",
        "            val = val ^^ lHT[i]\n",
        "        i = 0\n",
        "        for diff in gray((m*k+l)//2, p):\n",
        "            for coll_index in HM[val]:\n",
        "                print(coll_index)\n",
        "                \n",
        "            i += 1\n",
        "            for j in range(2):\n",
        "                val = val ^^ lHT[diff[j]]\n",
        "        return 1\n",
        "    \n",
        "        # this comptes the block wise hamming weight\n",
        "        # for the syndrome column multiplied with the base element `1`\n",
        "        cw = wt(bH, m*n)\n",
        "\n",
        "        # check if the weight is blockwise below its limit\n",
        "        if int(w*m/2) - epsilon <= cw <= int(w*m/2) + epsilon:\n",
        "            # allocate 3 different errors\n",
        "            e1 = [0] * (m*n) # needed to extract the syndrome\n",
        "            e2 = [0] * (m*n) # needed to apply the inverse permutation\n",
        "            e = [F(0)] * (n) # error in the extension field\n",
        "\n",
        "            # first extract the syndrome and write it into the error\n",
        "            for i in range((n-k) * m):\n",
        "                e1[i] = bH[i, m*n]\n",
        "            \n",
        "            #  apply the inverse permutation\n",
        "            for i in range(m*n):\n",
        "                e2[i] = e1[p[i]]\n",
        "                \n",
        "            # apply the back isomorphishm: translate the error from F_q^{m*n}\n",
        "            # to F_{q^m}^n. Note that we therefore need to mulitply with the \n",
        "            # base elemetns of F_{q^m}^n\n",
        "            for i in range(n):\n",
        "                for j in range(m):\n",
        "                    e[i] += F(e2[i*m + j])* F(bases[j])        \n",
        "            e = Matrix(F, n, 1, e)\n",
        "            if HH*e == s:\n",
        "                return e, ctr\n",
        "\n",
        "set_random_seed(time.time())\n",
        "Hpriv, s, e = create_instance(F, n, k, w)\n",
        "eprime, ctr = fqsten_attack(copy(Hpriv), s, n, k, w, q, m)\n",
        "print(eprime)\n",
        "print(e)\n",
        "\n",
        "print(\"iterations needed:\", ctr, \"log2:\", math.log(ctr, 2))\n",
        "print(\"syndrome (should)\")\n",
        "print(s)\n",
        "print(\"syndrome (is)\")\n",
        "print(Hpriv*eprime)"
      ],
      "outputs": [
        {
          "name": "stdout",
          "output_type": "stream",
          "text": [
            "n: 10 k: 5 w: 3 q: 2 m: 3 p: 1 l: 2\n",
            "weight limit: 3 5\n",
            "[1, 0, 0, 0, 0, 0, 1, 0, 1, 1, 1, 1, 0, 1, 0, 0, 1, 0, 1, 1, 1]\n",
            "1\n",
            "1\n",
            "1\n",
            "1\n",
            "0\n",
            "1\n",
            "0\n"
          ]
        },
        {
          "ename": "TypeError",
          "evalue": "cannot unpack non-iterable sage.rings.integer.Integer object",
          "output_type": "error",
          "traceback": [
            "\u001b[0;31m---------------------------------------------------------------------------\u001b[0m",
            "\u001b[0;31mTypeError\u001b[0m                                 Traceback (most recent call last)",
            "Cell \u001b[0;32mIn[48], line 97\u001b[0m\n\u001b[1;32m     95\u001b[0m set_random_seed(time\u001b[38;5;241m.\u001b[39mtime())\n\u001b[1;32m     96\u001b[0m Hpriv, s, e \u001b[38;5;241m=\u001b[39m create_instance(F, n, k, w)\n\u001b[0;32m---> 97\u001b[0m eprime, ctr \u001b[38;5;241m=\u001b[39m fqsten_attack(copy(Hpriv), s, n, k, w, q, m)\n\u001b[1;32m     98\u001b[0m \u001b[38;5;28mprint\u001b[39m(eprime)\n\u001b[1;32m     99\u001b[0m \u001b[38;5;28mprint\u001b[39m(e)\n",
            "\u001b[0;31mTypeError\u001b[0m: cannot unpack non-iterable sage.rings.integer.Integer object"
          ]
        }
      ],
      "execution_count": 13
    },
    {
      "cell_type": "markdown",
      "metadata": {
        "jukit_cell_id": "IXHSLBOTBM"
      },
      "source": [
        "### Adaptive Permutations:"
      ]
    },
    {
      "cell_type": "code",
      "metadata": {
        "jukit_cell_id": "PabJEZ80xa"
      },
      "source": [
        "n = 9\n",
        "l = 3\n",
        "P = Permutations(n)\n",
        "perm = [i for i in range(n)]\n",
        "\n",
        "def adaptive_permutation_step(perm: list[int], n: int, l: int):\n",
        "    \"\"\"\n",
        "    apply random permutatations on \n",
        "    \"\"\"\n",
        "    assert n % l == 0\n",
        "    nr = n // l\n",
        "    subP = Permutations(l)\n",
        "    for i in range(nr):\n",
        "        np = subP.random_element()\n",
        "        \n",
        "        for j in range(l):\n",
        "            perm[i*l + j], perm[i*l + np[j] - 1] = perm[i*l + np[j] - 1], perm[i*l + j]\n",
        "\n",
        "    return perm\n",
        "\n",
        "perm = adaptive_permutation_step(perm, n, l)\n",
        "print(perm)\n",
        "perm = adaptive_permutation_step(perm, n, l)\n",
        "print(perm)\n",
        "\n",
        "    "
      ],
      "outputs": [
        {
          "name": "stdout",
          "output_type": "stream",
          "text": [
            "[0, 2, 1, 3, 4, 5, 7, 6, 8]\n",
            "[0, 1, 2, 3, 4, 5, 6, 7, 8]\n"
          ]
        }
      ],
      "execution_count": 14
    },
    {
      "cell_type": "code",
      "metadata": {
        "jukit_cell_id": "AkOTOTfQyN"
      },
      "source": [],
      "outputs": [],
      "execution_count": null
    },
    {
      "cell_type": "code",
      "metadata": {
        "jukit_cell_id": "VCGR7rPThB"
      },
      "source": [],
      "outputs": [],
      "execution_count": null
    }
  ],
  "metadata": {
    "anaconda-cloud": {},
    "kernelspec": {
      "display_name": "sage",
      "language": "sage",
      "name": "sage"
    }
  },
  "nbformat": 4,
  "nbformat_minor": 4
}
